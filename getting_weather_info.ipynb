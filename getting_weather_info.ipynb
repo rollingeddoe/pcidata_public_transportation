{
 "cells": [
  {
   "cell_type": "markdown",
   "metadata": {},
   "source": [
    "# Import settings"
   ]
  },
  {
   "cell_type": "code",
   "execution_count": 1,
   "metadata": {},
   "outputs": [],
   "source": [
    "from urllib.request import urlopen\n",
    "from bs4 import BeautifulSoup\n",
    "import re\n",
    "from time import sleep"
   ]
  },
  {
   "cell_type": "code",
   "execution_count": 2,
   "metadata": {},
   "outputs": [],
   "source": [
    "import pandas as pd"
   ]
  },
  {
   "cell_type": "code",
   "execution_count": 3,
   "metadata": {},
   "outputs": [],
   "source": [
    "from selenium import webdriver\n",
    "from selenium.webdriver.common.keys import Keys"
   ]
  },
  {
   "cell_type": "markdown",
   "metadata": {},
   "source": [
    "# Simple functions to get content from weather website and organize into dataframe"
   ]
  },
  {
   "cell_type": "code",
   "execution_count": null,
   "metadata": {},
   "outputs": [],
   "source": [
    "def get_content(driver,url):\n",
    "    driver.get(url)\n",
    "    time.sleep(30)\n",
    "    content = driver.page_source.encode('utf-8')\n",
    "    driver.close()\n",
    "    soup = BeautifulSoup(content, 'lxml')\n",
    "    return soup"
   ]
  },
  {
   "cell_type": "code",
   "execution_count": 11,
   "metadata": {},
   "outputs": [],
   "source": [
    "def organize_data(soup):\n",
    "    weather = []\n",
    "    for st in soup.find_all('td'):\n",
    "        weather.append(st.string)\n",
    "    date, high_temp, low_temp, wea, wind, air = [], [], [], [], [], []\n",
    "    ###############################################################################################\n",
    "    for i in range(0, len(weather), 6):\n",
    "        date.append(weather[i])\n",
    "        high_temp.append(weather[i+1])\n",
    "        low_temp.append(weather[i+2])\n",
    "        wea.append(weather[i+3])\n",
    "        wind.append(weather[i+4])\n",
    "        air.append(weather[i+5])\n",
    "    date = [i.split(' ')[0] for i in date]\n",
    "    high_temp = [i.split('°')[0] for i in high_temp]\n",
    "    low_temp = [i.split('°')[0] for i in low_temp]\n",
    "    wea = [i.split('~') for i in wea]\n",
    "    wind = [i.split('风') for i in wind]\n",
    "    air = [i.split(' ') for i in air]\n",
    "    df = pd.DataFrame({'日期': date, '最高温': high_temp,\n",
    "                       '最低温': low_temp, '气候': wea, '风力': wind, '空气质量': air})\n",
    "\n",
    "    return df"
   ]
  },
  {
   "cell_type": "code",
   "execution_count": 25,
   "metadata": {},
   "outputs": [],
   "source": [
    "# loop click and concat\n",
    "\n",
    "\n",
    "def get_data(driver, first_button, buttons):\n",
    "    df = pd.DataFrame(columns= ['日期', '最高温',\n",
    "                       '最低温', '气候', '风力', '空气质量'])\n",
    "    for button in buttons:\n",
    "        element = driver.find_element_by_xpath(first_button)\n",
    "        new_cle = driver.find_element_by_xpath(button)\n",
    "        element.click()\n",
    "        new_cle.click()\n",
    "        content = driver.page_source.encode('utf-8')\n",
    "        soup = BeautifulSoup(content, 'lxml')\n",
    "        new_df = organize_data(soup)\n",
    "        df = pd.concat([df, new_df])\n",
    "    df.set_index('日期', inplace=True)\n",
    "    driver.close()\n",
    "    return df"
   ]
  },
  {
   "cell_type": "markdown",
   "metadata": {},
   "source": [
    "# Run functions and write the results into excel"
   ]
  },
  {
   "cell_type": "code",
   "execution_count": 24,
   "metadata": {},
   "outputs": [],
   "source": [
    "driver = webdriver.Chrome()\n",
    "driver.get(\"http://tianqi.2345.com/wea_history/59287.htm\")"
   ]
  },
  {
   "cell_type": "code",
   "execution_count": 23,
   "metadata": {},
   "outputs": [],
   "source": [
    "# button for June-August\n",
    "first_button = '/html/body/div[8]/div[2]/div[1]/div[1]/div[1]/div[3]/div[2]'\n",
    "buttons = ['/html/body/div[8]/div[2]/div[1]/div[1]/div[1]/div[3]/div[2]/div/ul/li[6]',\n",
    "           '/html/body/div[8]/div[2]/div[1]/div[1]/div[1]/div[3]/div[2]/div/ul/li[7]', \n",
    "           '/html/body/div[8]/div[2]/div[1]/div[1]/div[1]/div[3]/div[2]/div/ul/li[8]',\n",
    "           '/html/body/div[8]/div[2]/div[1]/div[1]/div[1]/div[3]/div[2]/div/ul/li[9]']"
   ]
  },
  {
   "cell_type": "code",
   "execution_count": 26,
   "metadata": {},
   "outputs": [
    {
     "data": {
      "text/html": [
       "<div>\n",
       "<style scoped>\n",
       "    .dataframe tbody tr th:only-of-type {\n",
       "        vertical-align: middle;\n",
       "    }\n",
       "\n",
       "    .dataframe tbody tr th {\n",
       "        vertical-align: top;\n",
       "    }\n",
       "\n",
       "    .dataframe thead th {\n",
       "        text-align: right;\n",
       "    }\n",
       "</style>\n",
       "<table border=\"1\" class=\"dataframe\">\n",
       "  <thead>\n",
       "    <tr style=\"text-align: right;\">\n",
       "      <th></th>\n",
       "      <th>最高温</th>\n",
       "      <th>最低温</th>\n",
       "      <th>气候</th>\n",
       "      <th>风力</th>\n",
       "      <th>空气质量</th>\n",
       "    </tr>\n",
       "    <tr>\n",
       "      <th>日期</th>\n",
       "      <th></th>\n",
       "      <th></th>\n",
       "      <th></th>\n",
       "      <th></th>\n",
       "      <th></th>\n",
       "    </tr>\n",
       "  </thead>\n",
       "  <tbody>\n",
       "    <tr>\n",
       "      <th>2020-09-01</th>\n",
       "      <td>35</td>\n",
       "      <td>27</td>\n",
       "      <td>[多云]</td>\n",
       "      <td>[东北, 2级]</td>\n",
       "      <td>[53, 良]</td>\n",
       "    </tr>\n",
       "    <tr>\n",
       "      <th>2020-09-02</th>\n",
       "      <td>35</td>\n",
       "      <td>27</td>\n",
       "      <td>[多云]</td>\n",
       "      <td>[北, 2级]</td>\n",
       "      <td>[75, 良]</td>\n",
       "    </tr>\n",
       "    <tr>\n",
       "      <th>2020-09-03</th>\n",
       "      <td>36</td>\n",
       "      <td>27</td>\n",
       "      <td>[多云]</td>\n",
       "      <td>[东北, 2级]</td>\n",
       "      <td>[81, 良]</td>\n",
       "    </tr>\n",
       "    <tr>\n",
       "      <th>2020-06-01</th>\n",
       "      <td>31</td>\n",
       "      <td>25</td>\n",
       "      <td>[中雨, 雷阵雨]</td>\n",
       "      <td>[南, 2级]</td>\n",
       "      <td>[35, 优]</td>\n",
       "    </tr>\n",
       "    <tr>\n",
       "      <th>2020-06-02</th>\n",
       "      <td>28</td>\n",
       "      <td>25</td>\n",
       "      <td>[小雨, 雷阵雨]</td>\n",
       "      <td>[南, 3级]</td>\n",
       "      <td>[28, 优]</td>\n",
       "    </tr>\n",
       "    <tr>\n",
       "      <th>...</th>\n",
       "      <td>...</td>\n",
       "      <td>...</td>\n",
       "      <td>...</td>\n",
       "      <td>...</td>\n",
       "      <td>...</td>\n",
       "    </tr>\n",
       "    <tr>\n",
       "      <th>2020-08-27</th>\n",
       "      <td>33</td>\n",
       "      <td>25</td>\n",
       "      <td>[阴, 多云]</td>\n",
       "      <td>[北, 2级]</td>\n",
       "      <td>[42, 优]</td>\n",
       "    </tr>\n",
       "    <tr>\n",
       "      <th>2020-08-28</th>\n",
       "      <td>35</td>\n",
       "      <td>27</td>\n",
       "      <td>[多云, 晴]</td>\n",
       "      <td>[东北, 2级]</td>\n",
       "      <td>[71, 良]</td>\n",
       "    </tr>\n",
       "    <tr>\n",
       "      <th>2020-08-29</th>\n",
       "      <td>34</td>\n",
       "      <td>27</td>\n",
       "      <td>[晴]</td>\n",
       "      <td>[西北, 2级]</td>\n",
       "      <td>[76, 良]</td>\n",
       "    </tr>\n",
       "    <tr>\n",
       "      <th>2020-08-30</th>\n",
       "      <td>35</td>\n",
       "      <td>28</td>\n",
       "      <td>[晴]</td>\n",
       "      <td>[东北, 2级]</td>\n",
       "      <td>[70, 良]</td>\n",
       "    </tr>\n",
       "    <tr>\n",
       "      <th>2020-08-31</th>\n",
       "      <td>33</td>\n",
       "      <td>27</td>\n",
       "      <td>[阴, 多云]</td>\n",
       "      <td>[北, 2级]</td>\n",
       "      <td>[50, 优]</td>\n",
       "    </tr>\n",
       "  </tbody>\n",
       "</table>\n",
       "<p>95 rows × 5 columns</p>\n",
       "</div>"
      ],
      "text/plain": [
       "           最高温 最低温         气候        风力     空气质量\n",
       "日期                                              \n",
       "2020-09-01  35  27       [多云]  [东北, 2级]  [53, 良]\n",
       "2020-09-02  35  27       [多云]   [北, 2级]  [75, 良]\n",
       "2020-09-03  36  27       [多云]  [东北, 2级]  [81, 良]\n",
       "2020-06-01  31  25  [中雨, 雷阵雨]   [南, 2级]  [35, 优]\n",
       "2020-06-02  28  25  [小雨, 雷阵雨]   [南, 3级]  [28, 优]\n",
       "...         ..  ..        ...       ...      ...\n",
       "2020-08-27  33  25    [阴, 多云]   [北, 2级]  [42, 优]\n",
       "2020-08-28  35  27    [多云, 晴]  [东北, 2级]  [71, 良]\n",
       "2020-08-29  34  27        [晴]  [西北, 2级]  [76, 良]\n",
       "2020-08-30  35  28        [晴]  [东北, 2级]  [70, 良]\n",
       "2020-08-31  33  27    [阴, 多云]   [北, 2级]  [50, 优]\n",
       "\n",
       "[95 rows x 5 columns]"
      ]
     },
     "execution_count": 26,
     "metadata": {},
     "output_type": "execute_result"
    }
   ],
   "source": [
    "weather = get_data(driver, first_button, buttons)"
   ]
  },
  {
   "cell_type": "code",
   "execution_count": 48,
   "metadata": {},
   "outputs": [],
   "source": [
    "with pd.ExcelWriter('天气情况.xlsx') as writer:\n",
    "    weather.to_excel(writer)"
   ]
  }
 ],
 "metadata": {
  "kernelspec": {
   "display_name": "Python 3",
   "language": "python",
   "name": "python3"
  },
  "language_info": {
   "codemirror_mode": {
    "name": "ipython",
    "version": 3
   },
   "file_extension": ".py",
   "mimetype": "text/x-python",
   "name": "python",
   "nbconvert_exporter": "python",
   "pygments_lexer": "ipython3",
   "version": "3.7.6"
  },
  "toc": {
   "base_numbering": 1,
   "nav_menu": {},
   "number_sections": true,
   "sideBar": true,
   "skip_h1_title": false,
   "title_cell": "Table of Contents",
   "title_sidebar": "Contents",
   "toc_cell": false,
   "toc_position": {},
   "toc_section_display": true,
   "toc_window_display": true
  }
 },
 "nbformat": 4,
 "nbformat_minor": 4
}
